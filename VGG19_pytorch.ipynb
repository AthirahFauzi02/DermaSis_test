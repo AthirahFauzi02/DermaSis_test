{
 "cells": [
  {
   "cell_type": "code",
   "execution_count": 1,
   "metadata": {},
   "outputs": [],
   "source": [
    "import torch\n",
    "import torch.nn as nn\n",
    "import torch.optim as optim\n",
    "import torchvision\n",
    "from torchvision import transforms, datasets, models\n",
    "from torchvision.models import VGG19_Weights\n",
    "from PIL import Image\n",
    "from torch.utils.data import DataLoader\n",
    "import os\n",
    "import matplotlib.pyplot as plt\n",
    "from sklearn.metrics import precision_score, recall_score, f1_score\n"
   ]
  },
  {
   "cell_type": "code",
   "execution_count": 2,
   "metadata": {},
   "outputs": [],
   "source": [
    "# Applying Transforms to the Data\n",
    "image_transforms = { \n",
    "    'train': transforms.Compose([\n",
    "        transforms.Resize((256, 256)),\n",
    "        # transforms.RandomRotation(degrees=15),\n",
    "        # transforms.RandomHorizontalFlip(),\n",
    "        transforms.ToTensor(),\n",
    "        transforms.Normalize([0.485, 0.456, 0.406],\n",
    "                             [0.229, 0.224, 0.225])\n",
    "    ]),\n",
    "    \n",
    "    'test': transforms.Compose([\n",
    "        transforms.Resize((256, 256)),\n",
    "        # transforms.CenterCrop(size=224),\n",
    "        transforms.ToTensor(),\n",
    "        transforms.Normalize([0.485, 0.456, 0.406],\n",
    "                             [0.229, 0.224, 0.225])\n",
    "    ])\n",
    "}"
   ]
  },
  {
   "cell_type": "code",
   "execution_count": 3,
   "metadata": {},
   "outputs": [
    {
     "name": "stdout",
     "output_type": "stream",
     "text": [
      "10\n",
      "{0: 'Acne', 1: 'Dermatitis', 2: 'Eczema', 3: 'Impetigo', 4: 'Melanoma', 5: 'Psoriasis', 6: 'Ringworm', 7: 'Rosacea', 8: 'Urticaria Hives', 9: 'Vitiligo'}\n"
     ]
    }
   ],
   "source": [
    " #Load the Data\n",
    "\n",
    "# Set train and valid directory paths\n",
    "\n",
    "dataset = 'skindiseasesplit'\n",
    "\n",
    "train_directory = os.path.join(dataset, 'train')\n",
    "test_directory = os.path.join(dataset, 'test')\n",
    "\n",
    "# Batch size\n",
    "bs = 64\n",
    "\n",
    "# Number of classes\n",
    "num_classes = len(os.listdir(test_directory))  #10#2#257\n",
    "print(num_classes)\n",
    "\n",
    "# Load Data from folders\n",
    "data = {\n",
    "    'train': datasets.ImageFolder(root=train_directory, transform=image_transforms['train']),\n",
    "    'test': datasets.ImageFolder(root=test_directory, transform=image_transforms['test'])\n",
    "}\n",
    "\n",
    "# Get a mapping of the indices to the class names, in order to see the output classes of the test images.\n",
    "classes = {v: k for k, v in data['train'].class_to_idx.items()}\n",
    "print(classes)\n",
    "\n",
    "# Size of Data, to be used for calculating Average Loss and Accuracy\n",
    "train_data_size = len(data['train'])\n",
    "test_data_size = len(data['test'])\n",
    "\n",
    "# Create iterators for the Data loaded using DataLoader module\n",
    "train_loader = DataLoader(data['train'], batch_size=bs, shuffle=True)\n",
    "test_loader = DataLoader(data['test'], batch_size=bs, shuffle=True)"
   ]
  },
  {
   "cell_type": "code",
   "execution_count": 4,
   "metadata": {},
   "outputs": [
    {
     "name": "stderr",
     "output_type": "stream",
     "text": [
      "c:\\Users\\user\\AppData\\Local\\Programs\\Python\\Python311\\Lib\\site-packages\\torchvision\\models\\_utils.py:208: UserWarning: The parameter 'pretrained' is deprecated since 0.13 and may be removed in the future, please use 'weights' instead.\n",
      "  warnings.warn(\n",
      "c:\\Users\\user\\AppData\\Local\\Programs\\Python\\Python311\\Lib\\site-packages\\torchvision\\models\\_utils.py:223: UserWarning: Arguments other than a weight enum or `None` for 'weights' are deprecated since 0.13 and may be removed in the future. The current behavior is equivalent to passing `weights=VGG19_Weights.IMAGENET1K_V1`. You can also use `weights=VGG19_Weights.DEFAULT` to get the most up-to-date weights.\n",
      "  warnings.warn(msg)\n",
      "c:\\Users\\user\\AppData\\Local\\Programs\\Python\\Python311\\Lib\\site-packages\\torchvision\\models\\_utils.py:135: UserWarning: Using 'weights' as positional parameter(s) is deprecated since 0.13 and may be removed in the future. Please use keyword parameter(s) instead.\n",
      "  warnings.warn(\n"
     ]
    }
   ],
   "source": [
    "model = models.vgg19(weights= VGG19_Weights.IMAGENET1K_V1)\n",
    "model = models.vgg19(weights=\"IMAGENET1K_V1\")\n",
    "model = models.vgg19(pretrained=True)\n",
    "model = models.vgg19(True)\n",
    "# Freeze all layers except the final classification layer\n",
    "for param in model.parameters():\n",
    "    param.requires_grad = False\n",
    "\n",
    "num_features = model.classifier[6].in_features\n",
    "model.classifier[6] = nn.Linear(num_features, num_classes)\n"
   ]
  },
  {
   "cell_type": "code",
   "execution_count": 5,
   "metadata": {},
   "outputs": [],
   "source": [
    "criterion = nn.CrossEntropyLoss()\n",
    "optimizer = optim.SGD(model.parameters(), lr=0.01, momentum=0.9)"
   ]
  },
  {
   "cell_type": "code",
   "execution_count": 6,
   "metadata": {},
   "outputs": [
    {
     "name": "stdout",
     "output_type": "stream",
     "text": [
      "Epoch 1/10\n",
      "Train Loss: 1.6305, Train Accuracy: 0.4542, Train Precision: 0.4537, Train Recall: 0.4430, Train F1: 0.4465\n",
      " -------------------------------------------- \n",
      "Test Loss: 1.1970, Test Accuracy: 0.5898, Test Precision: 0.6089, Test Recall: 0.6038, Test F1: 0.5838\n",
      "Epoch 2/10\n",
      "Train Loss: 1.5302, Train Accuracy: 0.5111, Train Precision: 0.5130, Train Recall: 0.5109, Train F1: 0.5115\n",
      " -------------------------------------------- \n",
      "Test Loss: 1.1792, Test Accuracy: 0.5979, Test Precision: 0.6240, Test Recall: 0.6014, Test F1: 0.5875\n",
      "Epoch 3/10\n",
      "Train Loss: 1.4717, Train Accuracy: 0.5400, Train Precision: 0.5430, Train Recall: 0.5400, Train F1: 0.5413\n",
      " -------------------------------------------- \n",
      "Test Loss: 1.1403, Test Accuracy: 0.6197, Test Precision: 0.6468, Test Recall: 0.6265, Test F1: 0.6059\n",
      "Epoch 4/10\n",
      "Train Loss: 1.4388, Train Accuracy: 0.5539, Train Precision: 0.5593, Train Recall: 0.5583, Train F1: 0.5586\n",
      " -------------------------------------------- \n",
      "Test Loss: 1.2647, Test Accuracy: 0.6060, Test Precision: 0.6910, Test Recall: 0.5973, Test F1: 0.5928\n",
      "Epoch 5/10\n",
      "Train Loss: 1.4459, Train Accuracy: 0.5648, Train Precision: 0.5692, Train Recall: 0.5688, Train F1: 0.5688\n",
      " -------------------------------------------- \n",
      "Test Loss: 1.0363, Test Accuracy: 0.6406, Test Precision: 0.6600, Test Recall: 0.6492, Test F1: 0.6394\n",
      "Epoch 6/10\n",
      "Train Loss: 1.4046, Train Accuracy: 0.5755, Train Precision: 0.5858, Train Recall: 0.5813, Train F1: 0.5831\n",
      " -------------------------------------------- \n",
      "Test Loss: 1.2988, Test Accuracy: 0.5963, Test Precision: 0.6680, Test Recall: 0.5910, Test F1: 0.5748\n",
      "Epoch 7/10\n",
      "Train Loss: 1.3679, Train Accuracy: 0.5761, Train Precision: 0.5830, Train Recall: 0.5822, Train F1: 0.5825\n",
      " -------------------------------------------- \n",
      "Test Loss: 1.1387, Test Accuracy: 0.6438, Test Precision: 0.6643, Test Recall: 0.6779, Test F1: 0.6503\n",
      "Epoch 8/10\n",
      "Train Loss: 1.3233, Train Accuracy: 0.5967, Train Precision: 0.6061, Train Recall: 0.6038, Train F1: 0.6047\n",
      " -------------------------------------------- \n",
      "Test Loss: 1.0942, Test Accuracy: 0.6487, Test Precision: 0.6713, Test Recall: 0.6616, Test F1: 0.6455\n",
      "Epoch 9/10\n",
      "Train Loss: 1.3779, Train Accuracy: 0.5723, Train Precision: 0.5803, Train Recall: 0.5778, Train F1: 0.5789\n",
      " -------------------------------------------- \n",
      "Test Loss: 1.0771, Test Accuracy: 0.6374, Test Precision: 0.6752, Test Recall: 0.6419, Test F1: 0.6322\n",
      "Epoch 10/10\n",
      "Train Loss: 1.3936, Train Accuracy: 0.5820, Train Precision: 0.5909, Train Recall: 0.5884, Train F1: 0.5894\n",
      " -------------------------------------------- \n",
      "Test Loss: 1.1009, Test Accuracy: 0.6350, Test Precision: 0.7118, Test Recall: 0.6231, Test F1: 0.6350\n"
     ]
    }
   ],
   "source": [
    "device = torch.device(\"cuda\" if torch.cuda.is_available() else \"cpu\")\n",
    "model.to(device)\n",
    "num_epochs = 10\n",
    "\n",
    "train_losses, test_losses, train_accuracies, test_accuracies = [], [], [], []\n",
    "train_precisions, test_precisions, train_recalls, test_recalls, train_f1_scores, test_f1_scores = [], [], [], [], [], []\n",
    "\n",
    "for epoch in range(num_epochs):\n",
    "    model.train()\n",
    "    running_loss = 0.0\n",
    "    correct_train = 0\n",
    "    total_train = 0\n",
    "    train_preds = []\n",
    "    train_labels = []\n",
    "\n",
    "    for inputs, labels in train_loader:\n",
    "        inputs, labels = inputs.to(device), labels.to(device)\n",
    "        optimizer.zero_grad()\n",
    "        outputs = model(inputs)\n",
    "        loss = criterion(outputs, labels)\n",
    "        loss.backward()\n",
    "        optimizer.step()\n",
    "        running_loss += loss.item()\n",
    "        _, predicted = torch.max(outputs.data, 1)\n",
    "        total_train += labels.size(0)\n",
    "        correct_train += (predicted == labels).sum().item()\n",
    "        \n",
    "        # Collect predictions and true labels for later use\n",
    "        train_preds.extend(predicted.cpu().numpy())\n",
    "        train_labels.extend(labels.cpu().numpy())\n",
    "\n",
    "    train_loss = running_loss / len(train_loader)\n",
    "    train_accuracy = correct_train / total_train\n",
    "\n",
    "    # Calculate precision, recall, and F1-score for training data\n",
    "    train_precision = precision_score(train_labels, train_preds, average='macro')\n",
    "    train_recall = recall_score(train_labels, train_preds, average='macro')\n",
    "    train_f1 = f1_score(train_labels, train_preds, average='macro')\n",
    "\n",
    "    model.eval()\n",
    "    test_loss = 0.0\n",
    "    correct_test = 0\n",
    "    total_test = 0\n",
    "    test_preds = []\n",
    "    test_labels = []\n",
    "\n",
    "    with torch.no_grad():\n",
    "        for inputs, labels in test_loader:\n",
    "            inputs, labels = inputs.to(device), labels.to(device)\n",
    "            outputs = model(inputs)\n",
    "            loss = criterion(outputs, labels)\n",
    "            test_loss += loss.item()\n",
    "            _, predicted = torch.max(outputs.data, 1)\n",
    "            total_test += labels.size(0)\n",
    "            correct_test += (predicted == labels).sum().item()\n",
    "            \n",
    "            # Collect predictions and true labels for later use\n",
    "            test_preds.extend(predicted.cpu().numpy())\n",
    "            test_labels.extend(labels.cpu().numpy())\n",
    "\n",
    "        test_accuracy = correct_test / total_test\n",
    "        test_loss = test_loss / len(test_loader)\n",
    "\n",
    "        # Calculate precision, recall, and F1-score for testing data\n",
    "        test_precision = precision_score(test_labels, test_preds, average='macro')\n",
    "        test_recall = recall_score(test_labels, test_preds, average='macro')\n",
    "        test_f1 = f1_score(test_labels, test_preds, average='macro')\n",
    "\n",
    "    train_losses.append(train_loss)\n",
    "    test_losses.append(test_loss)\n",
    "    train_accuracies.append(train_accuracy)\n",
    "    test_accuracies.append(test_accuracy)\n",
    "    train_precisions.append(train_precision)\n",
    "    test_precisions.append(test_precision)\n",
    "    train_recalls.append(train_recall)\n",
    "    test_recalls.append(test_recall)\n",
    "    train_f1_scores.append(train_f1)\n",
    "    test_f1_scores.append(test_f1)\n",
    "\n",
    "    print(f\"Epoch {epoch+1}/{num_epochs}\")\n",
    "    print(f\"Train Loss: {train_loss:.4f}, Train Accuracy: {train_accuracy:.4f}, Train Precision: {train_precision:.4f}, Train Recall: {train_recall:.4f}, Train F1: {train_f1:.4f}\")\n",
    "    print(\" -------------------------------------------- \")\n",
    "    print(f\"Test Loss: {test_loss:.4f}, Test Accuracy: {test_accuracy:.4f}, Test Precision: {test_precision:.4f}, Test Recall: {test_recall:.4f}, Test F1: {test_f1:.4f}\")\n",
    "    "
   ]
  },
  {
   "cell_type": "code",
   "execution_count": 7,
   "metadata": {},
   "outputs": [
    {
     "data": {
      "text/plain": [
       "Text(0, 0.5, 'Accuracy')"
      ]
     },
     "execution_count": 7,
     "metadata": {},
     "output_type": "execute_result"
    },
    {
     "data": {
      "image/png": "[encoded data removed]",
      "text/plain": [
       "<Figure size 1000x1000 with 2 Axes>"
      ]
     },
     "metadata": {},
     "output_type": "display_data"
    }
   ],
   "source": [
    "# Visualize loss, accuracy, precision, recall, and F1-score\n",
    "plt.figure(figsize=(10, 10))\n",
    "plt.subplot(2, 2, 1)\n",
    "plt.plot(train_losses, label='Train Loss')\n",
    "plt.plot(test_losses, label='Test Loss')\n",
    "plt.legend()\n",
    "plt.xlabel('Epochs')\n",
    "plt.ylabel('Loss')\n",
    "\n",
    "plt.subplot(2, 2, 2)\n",
    "plt.plot(train_accuracies, label='Train Accuracy')\n",
    "plt.plot(test_accuracies, label='Test Accuracy')\n",
    "plt.legend()\n",
    "plt.xlabel('Epochs')\n",
    "plt.ylabel('Accuracy')"
   ]
  },
  {
   "cell_type": "code",
   "execution_count": 8,
   "metadata": {},
   "outputs": [
    {
     "name": "stderr",
     "output_type": "stream",
     "text": [
      "c:\\Users\\user\\AppData\\Local\\Programs\\Python\\Python311\\Lib\\site-packages\\torchvision\\models\\_utils.py:208: UserWarning: The parameter 'pretrained' is deprecated since 0.13 and may be removed in the future, please use 'weights' instead.\n",
      "  warnings.warn(\n",
      "c:\\Users\\user\\AppData\\Local\\Programs\\Python\\Python311\\Lib\\site-packages\\torchvision\\models\\_utils.py:223: UserWarning: Arguments other than a weight enum or `None` for 'weights' are deprecated since 0.13 and may be removed in the future. The current behavior is equivalent to passing `weights=None`.\n",
      "  warnings.warn(msg)\n"
     ]
    }
   ],
   "source": [
    "torch.save(model.state_dict(), 'vgg19.pth')\n",
    "\n",
    "loaded_model = models.vgg19(pretrained=False)\n",
    "num_features = loaded_model.classifier[6].in_features\n",
    "loaded_model.classifier[6] = nn.Linear(num_features, num_classes)\n",
    "loaded_model.load_state_dict(torch.load('vgg19.pth'))\n",
    "loaded_model.to(device)\n",
    "loaded_model.eval()\n",
    "\n",
    "transform = transforms.Compose([\n",
    "    transforms.Resize((256, 256)),\n",
    "    transforms.ToTensor(),\n",
    "    transforms.Normalize(mean=[0.485, 0.456, 0.406], std=[0.229, 0.224, 0.225])\n",
    "])"
   ]
  },
  {
   "cell_type": "code",
   "execution_count": 9,
   "metadata": {},
   "outputs": [
    {
     "name": "stdout",
     "output_type": "stream",
     "text": [
      "Predicted Class: Urticaria Hives, Accuracy: 0.8060\n"
     ]
    }
   ],
   "source": [
    "accuracy_threshold = 0.7  # Adjust this threshold as needed\n",
    "\n",
    "def test_single_image(image_path, model, threshold):\n",
    "    image = Image.open(image_path).convert(\"RGB\")\n",
    "    image = transform(image).unsqueeze(0).to(device)\n",
    "    model.eval()\n",
    "    with torch.no_grad():\n",
    "        output = model(image)\n",
    "        _, predicted = torch.max(output.data, 1)\n",
    "        probabilities = torch.softmax(output, dim=1)\n",
    "    \n",
    "    predicted_class = predicted.item()\n",
    "    max_probability = torch.max(probabilities).item()\n",
    "    \n",
    "    # Check if the maximum probability is below the threshold\n",
    "    if max_probability < threshold:\n",
    "        return \"Unknown disease\", max_probability\n",
    "    else:\n",
    "        predicted_label = classes[predicted_class]\n",
    "        return predicted_label, max_probability\n",
    "\n",
    "new_image_path = 'Vitiligo2.jpeg'\n",
    "predicted_class, accuracy = test_single_image(new_image_path, loaded_model, accuracy_threshold)\n",
    "print(f'Predicted Class: {predicted_class}, Accuracy: {accuracy:.4f}')"
   ]
  },
  {
   "cell_type": "code",
   "execution_count": 10,
   "metadata": {},
   "outputs": [],
   "source": [
    "# # Make predictions using the loaded model (example with a single image)\n",
    "# def predict_single_image(model, image_path):\n",
    "#     image = Image.open(image_path)\n",
    "#     image = transform(image).unsqueeze(0).to(device)  # Add batch dimension and move to GPU\n",
    "#     model.eval()\n",
    "#     with torch.no_grad():\n",
    "#         output = model(image)\n",
    "#         _, predicted = output.max(1)\n",
    "#         return classes[predicted.item()]\n",
    "\n",
    "# # Test the loaded model with a new image\n",
    "# new_image_path = \"a5e9641ec070062280c5d9b429532cdf.jpg\"\n",
    "# predicted_class = predict_single_image(loaded_model, new_image_path)\n",
    "# print(f\"Predicted Class: {predicted_class}\")"
   ]
  }
 ],
 "metadata": {
  "kernelspec": {
   "display_name": "Python 3",
   "language": "python",
   "name": "python3"
  },
  "language_info": {
   "codemirror_mode": {
    "name": "ipython",
    "version": 3
   },
   "file_extension": ".py",
   "mimetype": "text/x-python",
   "name": "python",
   "nbconvert_exporter": "python",
   "pygments_lexer": "ipython3",
   "version": "3.11.4"
  },
  "orig_nbformat": 4
 },
 "nbformat": 4,
 "nbformat_minor": 2
}
